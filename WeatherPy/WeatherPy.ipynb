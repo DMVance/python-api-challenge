{
 "cells": [
  {
   "cell_type": "code",
   "execution_count": 3,
   "metadata": {},
   "outputs": [
    {
     "name": "stdout",
     "output_type": "stream",
     "text": [
      "The lab_black extension is already loaded. To reload it, use:\n",
      "  %reload_ext lab_black\n"
     ]
    }
   ],
   "source": [
    "%load_ext lab_black"
   ]
  },
  {
   "cell_type": "code",
   "execution_count": 45,
   "metadata": {},
   "outputs": [],
   "source": [
    "import requests, json, random\n",
    "import pandas as pd\n",
    "import plotly.express as px\n",
    "import matplotlib.pyplot as plt\n",
    "from config import weather_api_key\n",
    "from citipy import citipy\n",
    "from sklearn.linear_model import LinearRegression\n",
    "\n",
    "endpoint = \"http://api.openweathermap.org/data/2.5/weather\"\n",
    "\n",
    "payload = {\"q\": \"london\", \"appid\": weather_api_key, \"units\": \"imperial\"}\n",
    "\n",
    "r = requests.get(url=endpoint, params=payload)\n",
    "data = r.json()\n",
    "\n",
    "# r.status_code\n",
    "# r.headers['content-type']\n",
    "# r.text\n",
    "# r.json()"
   ]
  },
  {
   "cell_type": "code",
   "execution_count": 8,
   "metadata": {},
   "outputs": [],
   "source": [
    "# Build list of random coordinates\n",
    "\n",
    "\n"
   ]
  },
  {
   "cell_type": "code",
   "execution_count": 38,
   "metadata": {},
   "outputs": [],
   "source": [
    "# from random import uniform\n",
    "\n",
    "# x, y = uniform(-180, 180), uniform(-90, 90)"
   ]
  },
  {
   "cell_type": "code",
   "execution_count": 54,
   "metadata": {},
   "outputs": [
    {
     "data": {
      "text/plain": [
       "[(88.199121, 130.010285),\n",
       " (38.766868, 9.58051),\n",
       " (37.424953, 192.689433),\n",
       " (47.085233, 210.692858),\n",
       " (27.271716, 278.31836),\n",
       " (38.704866, 15.358307),\n",
       " (41.20038, 258.4054),\n",
       " (34.995358, 250.497534),\n",
       " (58.670936, 192.855399),\n",
       " (79.902488, 141.748334)]"
      ]
     },
     "execution_count": 54,
     "metadata": {},
     "output_type": "execute_result"
    }
   ],
   "source": [
    "coordinate_list = []\n",
    "counter = 0\n",
    "number_of_points = 600\n",
    "\n",
    "while counter < number_of_points:\n",
    "    lat = round(random.uniform(0, 90), 6)\n",
    "    lon = round(random.uniform(0, 360), 6)\n",
    "    counter += 1\n",
    "    coordinate_list.append((lat, lon))\n",
    "\n",
    "coordinate_list[:10]"
   ]
  },
  {
   "cell_type": "code",
   "execution_count": 58,
   "metadata": {},
   "outputs": [
    {
     "data": {
      "text/plain": [
       "'barawe'"
      ]
     },
     "execution_count": 58,
     "metadata": {},
     "output_type": "execute_result"
    }
   ],
   "source": [
    "for coords in coordinate_list:\n",
    "    city = citipy.nearest_city(coords[0], coords[1])\n",
    "\n",
    "city.city_name\n",
    "# city.country_code"
   ]
  },
  {
   "cell_type": "code",
   "execution_count": null,
   "metadata": {},
   "outputs": [],
   "source": []
  }
 ],
 "metadata": {
  "environment": {
   "name": "common-cpu.m54",
   "type": "gcloud",
   "uri": "gcr.io/deeplearning-platform-release/base-cpu:m54"
  },
  "kernelspec": {
   "display_name": "Python 3",
   "language": "python",
   "name": "python3"
  },
  "language_info": {
   "codemirror_mode": {
    "name": "ipython",
    "version": 3
   },
   "file_extension": ".py",
   "mimetype": "text/x-python",
   "name": "python",
   "nbconvert_exporter": "python",
   "pygments_lexer": "ipython3",
   "version": "3.7.8"
  }
 },
 "nbformat": 4,
 "nbformat_minor": 4
}
