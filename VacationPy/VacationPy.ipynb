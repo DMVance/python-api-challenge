{
 "cells": [
  {
   "cell_type": "code",
   "execution_count": 1,
   "metadata": {},
   "outputs": [],
   "source": [
    "%load_ext lab_black"
   ]
  },
  {
   "cell_type": "code",
   "execution_count": 1,
   "metadata": {},
   "outputs": [],
   "source": [
    "import requests, json, random\n",
    "import pandas as pd\n",
    "import plotly.express as px\n",
    "from config import weather_api_key\n",
    "from config import g_key\n",
    "from config import mapbox_token\n",
    "from citipy import citipy\n",
    "from datetime import date"
   ]
  },
  {
   "cell_type": "code",
   "execution_count": 2,
   "metadata": {},
   "outputs": [],
   "source": [
    "px.set_mapbox_access_token(mapbox_token)"
   ]
  },
  {
   "cell_type": "code",
   "execution_count": 65,
   "metadata": {},
   "outputs": [],
   "source": [
    "# Build list of random coordinates\n",
    "coordinate_list = []\n",
    "counter = 0\n",
    "number_of_points = 500\n",
    "\n",
    "while counter < number_of_points:\n",
    "    lat = round(random.uniform(-90, 90), 6)\n",
    "    lon = round(random.uniform(-180, 180), 6)\n",
    "    counter += 1\n",
    "    coordinate_list.append((lat, lon))\n",
    "\n",
    "# Assign nearest city to given set of coordinates (no duplicates)\n",
    "cities = []\n",
    "city_count = 0\n",
    "\n",
    "for coords in coordinate_list:\n",
    "    city = citipy.nearest_city(coords[0], coords[1])\n",
    "    if city.city_name not in cities:\n",
    "        cities.append(city.city_name)\n",
    "        city_count += 1"
   ]
  },
  {
   "cell_type": "code",
   "execution_count": 66,
   "metadata": {},
   "outputs": [
    {
     "name": "stdout",
     "output_type": "stream",
     "text": [
      "Beginning data retrieval:\n",
      "\n",
      "--------------------------------------------------\n",
      "Processing record:  1  |  avarua\n",
      "Processing record:  2  |  goderich\n",
      "Processing record:  3  |  mys shmidta  *Not Found*\n",
      "Processing record:  4  |  vaini\n",
      "Processing record:  5  |  ponta do sol\n",
      "Processing record:  6  |  la ronge\n",
      "Processing record:  7  |  bull savanna\n",
      "Processing record:  8  |  hutchinson\n",
      "Processing record:  9  |  carteret\n",
      "Processing record:  10  |  punta arenas\n",
      "Processing record:  11  |  hirado\n",
      "Processing record:  12  |  vao\n",
      "Processing record:  13  |  bam\n",
      "Processing record:  14  |  hilo\n",
      "Processing record:  15  |  vila franca do campo\n",
      "Processing record:  16  |  hithadhoo\n",
      "Processing record:  17  |  kavieng\n",
      "Processing record:  18  |  valente\n",
      "Processing record:  19  |  dikson\n",
      "Processing record:  20  |  klaksvik\n",
      "Processing record:  21  |  portland\n",
      "Processing record:  22  |  albany\n",
      "Processing record:  23  |  esperance\n",
      "Processing record:  24  |  khatanga\n",
      "Processing record:  25  |  arraial do cabo\n",
      "Processing record:  26  |  praia da vitoria\n",
      "Processing record:  27  |  qaanaaq\n",
      "Processing record:  28  |  manavalakurichi\n",
      "Processing record:  29  |  jamestown\n",
      "Processing record:  30  |  mataura\n",
      "Processing record:  31  |  taolanaro  *Not Found*\n",
      "Processing record:  32  |  kosum phisai\n",
      "Processing record:  33  |  bose\n",
      "Processing record:  34  |  port elizabeth\n",
      "Processing record:  35  |  georgetown\n",
      "Processing record:  36  |  rikitea\n",
      "Processing record:  37  |  busselton\n",
      "Processing record:  38  |  ossora\n",
      "Processing record:  39  |  muli\n",
      "Processing record:  40  |  barrow\n",
      "Processing record:  41  |  sompeta\n",
      "Processing record:  42  |  bagdarin\n",
      "Processing record:  43  |  dunmore town\n",
      "Processing record:  44  |  hermanus\n",
      "Processing record:  45  |  yellowknife\n",
      "Processing record:  46  |  atuona\n",
      "Processing record:  47  |  east london\n",
      "Processing record:  48  |  sao joao da barra\n",
      "Processing record:  49  |  mar del plata\n",
      "Processing record:  50  |  nanortalik\n",
      "Processing record:  51  |  victoria\n",
      "Processing record:  52  |  high level\n",
      "Processing record:  53  |  barranca\n",
      "Processing record:  54  |  belushya guba  *Not Found*\n",
      "Processing record:  55  |  narsaq\n",
      "Processing record:  56  |  lagoa\n",
      "Processing record:  57  |  kapaa\n",
      "Processing record:  58  |  attawapiskat  *Not Found*\n",
      "Processing record:  59  |  tuatapere\n",
      "Processing record:  60  |  grand gaube\n",
      "Processing record:  61  |  iqaluit\n",
      "Processing record:  62  |  cayenne\n",
      "Processing record:  63  |  tuktoyaktuk\n",
      "Processing record:  64  |  pevek\n",
      "Processing record:  65  |  palabuhanratu  *Not Found*\n",
      "Processing record:  66  |  lavrentiya\n",
      "Processing record:  67  |  vallenar\n",
      "Processing record:  68  |  bitkine\n",
      "Processing record:  69  |  bluff\n",
      "Processing record:  70  |  berlevag\n",
      "Processing record:  71  |  carnarvon\n",
      "Processing record:  72  |  tumannyy  *Not Found*\n",
      "Processing record:  73  |  takoradi\n",
      "Processing record:  74  |  ambilobe\n",
      "Processing record:  75  |  sorland\n",
      "Processing record:  76  |  la palma\n",
      "Processing record:  77  |  quang ngai\n",
      "Processing record:  78  |  ridgecrest\n",
      "Processing record:  79  |  bredasdorp\n",
      "Processing record:  80  |  tsihombe  *Not Found*\n",
      "Processing record:  81  |  hobart\n",
      "Processing record:  82  |  lata\n",
      "Processing record:  83  |  sioux lookout\n",
      "Processing record:  84  |  rawannawi  *Not Found*\n",
      "Processing record:  85  |  terrace\n",
      "Processing record:  86  |  taltal\n",
      "Processing record:  87  |  kodiak\n",
      "Processing record:  88  |  ushuaia\n",
      "Processing record:  89  |  dunedin\n",
      "Processing record:  90  |  bajo baudo  *Not Found*\n",
      "Processing record:  91  |  kaitangata\n",
      "Processing record:  92  |  ankazobe\n",
      "Processing record:  93  |  azimur  *Not Found*\n",
      "Processing record:  94  |  torbay\n",
      "Processing record:  95  |  castro\n",
      "Processing record:  96  |  nanyang\n",
      "Processing record:  97  |  chuy\n",
      "Processing record:  98  |  tombouctou\n",
      "Processing record:  99  |  bathsheba\n",
      "Processing record:  100  |  mahebourg\n",
      "Processing record:  101  |  severo-kurilsk\n",
      "Processing record:  102  |  pisco\n",
      "Processing record:  103  |  new norfolk\n",
      "Processing record:  104  |  puerto ayora\n",
      "Processing record:  105  |  illoqqortoormiut  *Not Found*\n",
      "Processing record:  106  |  mecca\n",
      "Processing record:  107  |  havelock\n",
      "Processing record:  108  |  wanning\n",
      "Processing record:  109  |  faya\n",
      "Processing record:  110  |  ugento\n",
      "Processing record:  111  |  yerbogachen\n",
      "Processing record:  112  |  thompson\n",
      "Processing record:  113  |  wuwei\n",
      "Processing record:  114  |  tanjong malim  *Not Found*\n",
      "Processing record:  115  |  maniitsoq\n",
      "Processing record:  116  |  cidreira\n",
      "Processing record:  117  |  saint-philippe\n",
      "Processing record:  118  |  cape town\n",
      "Processing record:  119  |  lebu\n",
      "Processing record:  120  |  broome\n",
      "Processing record:  121  |  katsuura\n",
      "Processing record:  122  |  soubre\n",
      "Processing record:  123  |  provideniya\n",
      "Processing record:  124  |  cabo san lucas\n",
      "Processing record:  125  |  matagami\n",
      "Processing record:  126  |  kargasok\n",
      "Processing record:  127  |  balakhninskiy\n",
      "Processing record:  128  |  yar-sale\n",
      "Processing record:  129  |  camacha\n",
      "Processing record:  130  |  vardo\n",
      "Processing record:  131  |  yermekeyevo\n",
      "Processing record:  132  |  artigas\n",
      "Processing record:  133  |  cherskiy\n",
      "Processing record:  134  |  surt\n",
      "Processing record:  135  |  mnogovershinnyy\n",
      "Processing record:  136  |  new richmond\n",
      "Processing record:  137  |  baruun-urt\n",
      "Processing record:  138  |  oranjemund\n",
      "Processing record:  139  |  port alfred\n",
      "Processing record:  140  |  bolungarvik  *Not Found*\n",
      "Processing record:  141  |  touros\n",
      "Processing record:  142  |  gravdal\n",
      "Processing record:  143  |  vanimo\n",
      "Processing record:  144  |  grand-lahou\n",
      "Processing record:  145  |  neuquen\n",
      "Processing record:  146  |  barhi\n",
      "Processing record:  147  |  pemangkat\n",
      "Processing record:  148  |  bengkulu\n",
      "Processing record:  149  |  lucea\n",
      "Processing record:  150  |  moba\n",
      "Processing record:  151  |  nantucket\n",
      "Processing record:  152  |  celestun\n",
      "Processing record:  153  |  margate\n",
      "Processing record:  154  |  vidim\n",
      "Processing record:  155  |  taga\n",
      "Processing record:  156  |  atar\n",
      "Processing record:  157  |  half moon bay\n",
      "Processing record:  158  |  brigantine\n",
      "Processing record:  159  |  micheweni\n",
      "Processing record:  160  |  sevsk\n",
      "Processing record:  161  |  geraldton\n",
      "Processing record:  162  |  bilibino\n",
      "Processing record:  163  |  tallahassee\n",
      "Processing record:  164  |  tiksi\n",
      "Processing record:  165  |  bethel\n",
      "Processing record:  166  |  grand centre  *Not Found*\n",
      "Processing record:  167  |  soyo\n",
      "Processing record:  168  |  olinda\n",
      "Processing record:  169  |  clyde river\n",
      "Processing record:  170  |  nouadhibou\n",
      "Processing record:  171  |  nhulunbuy\n",
      "Processing record:  172  |  san patricio\n",
      "Processing record:  173  |  camocim\n",
      "Processing record:  174  |  yarada\n",
      "Processing record:  175  |  farafangana\n",
      "Processing record:  176  |  nizhneyansk  *Not Found*\n",
      "Processing record:  177  |  riyadh\n",
      "Processing record:  178  |  zhangye\n",
      "Processing record:  179  |  murgab\n",
      "Processing record:  180  |  latehar\n",
      "Processing record:  181  |  nome\n",
      "Processing record:  182  |  lander\n",
      "Processing record:  183  |  butaritari\n",
      "Processing record:  184  |  mahadday weyne  *Not Found*\n",
      "Processing record:  185  |  bemidji\n",
      "Processing record:  186  |  chigorodo\n",
      "Processing record:  187  |  lazaro cardenas\n",
      "Processing record:  188  |  pachino\n",
      "Processing record:  189  |  dourbali\n",
      "Processing record:  190  |  balud\n",
      "Processing record:  191  |  chumphon\n",
      "Processing record:  192  |  presidencia roque saenz pena\n",
      "Processing record:  193  |  ostrovnoy\n",
      "Processing record:  194  |  suba\n",
      "Processing record:  195  |  mayna\n",
      "Processing record:  196  |  kieta\n",
      "Processing record:  197  |  gazli\n",
      "Processing record:  198  |  biak\n",
      "Processing record:  199  |  upernavik\n",
      "Processing record:  200  |  zhangjiakou\n",
      "Processing record:  201  |  adrar\n",
      "Processing record:  202  |  swan river\n",
      "Processing record:  203  |  saint george\n",
      "Processing record:  204  |  wilkie\n",
      "Processing record:  205  |  englehart\n",
      "Processing record:  206  |  nelson bay\n",
      "Processing record:  207  |  alofi\n",
      "Processing record:  208  |  paamiut\n",
      "Processing record:  209  |  koumac\n",
      "Processing record:  210  |  port macquarie\n",
      "Processing record:  211  |  faanui\n",
      "Processing record:  212  |  aksu\n",
      "Processing record:  213  |  sanghar\n",
      "Processing record:  214  |  chokurdakh\n",
      "Processing record:  215  |  barentsburg  *Not Found*\n",
      "Processing record:  216  |  masindi\n",
      "Processing record:  217  |  axim\n",
      "Processing record:  218  |  komsomolskiy\n",
      "Processing record:  219  |  saldanha\n",
      "Processing record:  220  |  mount gambier\n",
      "Processing record:  221  |  leningradskiy\n",
      "Processing record:  222  |  staryy oskol\n",
      "Processing record:  223  |  lagos\n",
      "Processing record:  224  |  ribeira grande\n",
      "Processing record:  225  |  tongchuan\n",
      "Processing record:  226  |  yen bai\n",
      "Processing record:  227  |  port lincoln\n",
      "Processing record:  228  |  camargo\n",
      "Processing record:  229  |  mandalgovi\n",
      "Processing record:  230  |  santa cruz\n",
      "Processing record:  231  |  buala\n",
      "Processing record:  232  |  dianopolis  *Not Found*\n",
      "Processing record:  233  |  aracati\n",
      "Processing record:  234  |  trbovlje\n",
      "Processing record:  235  |  roald\n",
      "Processing record:  236  |  virginia beach\n",
      "Processing record:  237  |  kayerkan\n",
      "Processing record:  238  |  conde\n",
      "Processing record:  239  |  damghan\n",
      "Processing record:  240  |  nizhniy kuranakh\n",
      "Processing record:  241  |  port blair\n",
      "Processing record:  242  |  trat\n",
      "Processing record:  243  |  neiafu\n",
      "Processing record:  244  |  gat\n",
      "Processing record:  245  |  lasa\n",
      "Processing record:  246  |  bowen\n",
      "Processing record:  247  |  llata\n",
      "Processing record:  248  |  ferme-neuve\n",
      "Processing record:  249  |  linjiang\n",
      "Processing record:  250  |  wairoa\n",
      "Processing record:  251  |  amuntai\n",
      "Processing record:  252  |  port pirie\n",
      "Processing record:  253  |  bambous virieux\n",
      "Processing record:  254  |  tigil\n",
      "Processing record:  255  |  jinchengjiang  *Not Found*\n",
      "Processing record:  256  |  kazalinsk  *Not Found*\n",
      "Processing record:  257  |  mandvi\n",
      "Processing record:  258  |  haines junction\n",
      "Processing record:  259  |  tommot\n",
      "Processing record:  260  |  birjand\n",
      "Processing record:  261  |  hervey bay\n",
      "Processing record:  262  |  lompoc\n",
      "Processing record:  263  |  forest\n",
      "Processing record:  264  |  anjiang\n",
      "Processing record:  265  |  moerai\n",
      "Processing record:  266  |  kalakamati\n",
      "Processing record:  267  |  krk\n",
      "Processing record:  268  |  ginda\n",
      "Processing record:  269  |  mingshui\n",
      "Processing record:  270  |  blois\n",
      "Processing record:  271  |  mergui  *Not Found*\n",
      "Processing record:  272  |  pontes e lacerda\n",
      "Processing record:  273  |  verkhnevilyuysk\n",
      "Processing record:  274  |  bairiki\n",
      "Processing record:  275  |  balsta\n",
      "Processing record:  276  |  petropavlovsk-kamchatskiy\n",
      "Processing record:  277  |  sao filipe\n",
      "Processing record:  278  |  balotra\n",
      "Processing record:  279  |  manuk mangkaw\n",
      "Processing record:  280  |  fairlie\n"
     ]
    }
   ],
   "source": [
    "# Obtain weather data for cities in the list\n",
    "cities_results = []\n",
    "count = 0\n",
    "found_count = 0\n",
    "not_found_count = 0\n",
    "\n",
    "print(\"Beginning data retrieval:\\n\")\n",
    "print(50 * \"-\")\n",
    "\n",
    "for citi in cities:\n",
    "    endpoint = \"http://api.openweathermap.org/data/2.5/weather\"\n",
    "    payload = {\"q\": citi, \"appid\": weather_api_key, \"units\": \"imperial\"}\n",
    "\n",
    "    r = requests.get(url=endpoint, params=payload)\n",
    "\n",
    "    count += 1\n",
    "\n",
    "    if r.status_code == 200:\n",
    "        data = r.json()\n",
    "        cities_results.append(data)\n",
    "        print(\"Processing record: \", count, \" | \", citi)\n",
    "        found_count += 1\n",
    "    else:\n",
    "        print(\"Processing record: \", count, \" | \", citi, \" *Not Found*\")\n",
    "        not_found_count += 1"
   ]
  },
  {
   "cell_type": "code",
   "execution_count": 95,
   "metadata": {},
   "outputs": [
    {
     "data": {
      "text/plain": [
       "200"
      ]
     },
     "execution_count": 95,
     "metadata": {},
     "output_type": "execute_result"
    }
   ],
   "source": [
    "r.status_code"
   ]
  },
  {
   "cell_type": "code",
   "execution_count": 97,
   "metadata": {},
   "outputs": [
    {
     "data": {
      "text/plain": [
       "259"
      ]
     },
     "execution_count": 97,
     "metadata": {},
     "output_type": "execute_result"
    }
   ],
   "source": [
    "found_count"
   ]
  },
  {
   "cell_type": "code",
   "execution_count": 98,
   "metadata": {},
   "outputs": [
    {
     "data": {
      "text/plain": [
       "21"
      ]
     },
     "execution_count": 98,
     "metadata": {},
     "output_type": "execute_result"
    }
   ],
   "source": [
    "not_found_count"
   ]
  },
  {
   "cell_type": "code",
   "execution_count": 99,
   "metadata": {},
   "outputs": [
    {
     "data": {
      "text/plain": [
       "{'coord': {'lon': -159.78, 'lat': -21.21},\n",
       " 'weather': [{'id': 301,\n",
       "   'main': 'Drizzle',\n",
       "   'description': 'drizzle',\n",
       "   'icon': '09d'}],\n",
       " 'base': 'stations',\n",
       " 'main': {'temp': 73.4,\n",
       "  'feels_like': 75.69,\n",
       "  'temp_min': 73.4,\n",
       "  'temp_max': 73.4,\n",
       "  'pressure': 1017,\n",
       "  'humidity': 88},\n",
       " 'visibility': 6000,\n",
       " 'wind': {'speed': 9.17, 'deg': 120},\n",
       " 'clouds': {'all': 87},\n",
       " 'dt': 1601058010,\n",
       " 'sys': {'type': 1,\n",
       "  'id': 7271,\n",
       "  'country': 'CK',\n",
       "  'sunrise': 1601051105,\n",
       "  'sunset': 1601094956},\n",
       " 'timezone': -36000,\n",
       " 'id': 4035715,\n",
       " 'name': 'Avarua',\n",
       " 'cod': 200}"
      ]
     },
     "execution_count": 99,
     "metadata": {},
     "output_type": "execute_result"
    }
   ],
   "source": [
    "cities_results[0]"
   ]
  },
  {
   "cell_type": "code",
   "execution_count": 100,
   "metadata": {},
   "outputs": [
    {
     "data": {
      "text/html": [
       "<div>\n",
       "<style scoped>\n",
       "    .dataframe tbody tr th:only-of-type {\n",
       "        vertical-align: middle;\n",
       "    }\n",
       "\n",
       "    .dataframe tbody tr th {\n",
       "        vertical-align: top;\n",
       "    }\n",
       "\n",
       "    .dataframe thead th {\n",
       "        text-align: right;\n",
       "    }\n",
       "</style>\n",
       "<table border=\"1\" class=\"dataframe\">\n",
       "  <thead>\n",
       "    <tr style=\"text-align: right;\">\n",
       "      <th></th>\n",
       "      <th>City</th>\n",
       "      <th>Country</th>\n",
       "      <th>Lat</th>\n",
       "      <th>Long</th>\n",
       "      <th>Temp_max</th>\n",
       "      <th>Humidity</th>\n",
       "      <th>Cloudiness</th>\n",
       "      <th>Wind_Speed</th>\n",
       "    </tr>\n",
       "  </thead>\n",
       "  <tbody>\n",
       "    <tr>\n",
       "      <th>0</th>\n",
       "      <td>Avarua</td>\n",
       "      <td>CK</td>\n",
       "      <td>-21.21</td>\n",
       "      <td>-159.78</td>\n",
       "      <td>73.40</td>\n",
       "      <td>88</td>\n",
       "      <td>87</td>\n",
       "      <td>9.17</td>\n",
       "    </tr>\n",
       "    <tr>\n",
       "      <th>1</th>\n",
       "      <td>Goderich</td>\n",
       "      <td>CA</td>\n",
       "      <td>43.75</td>\n",
       "      <td>-81.72</td>\n",
       "      <td>78.01</td>\n",
       "      <td>72</td>\n",
       "      <td>0</td>\n",
       "      <td>5.75</td>\n",
       "    </tr>\n",
       "    <tr>\n",
       "      <th>2</th>\n",
       "      <td>Vaini</td>\n",
       "      <td>TO</td>\n",
       "      <td>-21.20</td>\n",
       "      <td>-175.20</td>\n",
       "      <td>69.80</td>\n",
       "      <td>94</td>\n",
       "      <td>75</td>\n",
       "      <td>4.70</td>\n",
       "    </tr>\n",
       "    <tr>\n",
       "      <th>3</th>\n",
       "      <td>Ponta do Sol</td>\n",
       "      <td>PT</td>\n",
       "      <td>32.67</td>\n",
       "      <td>-17.10</td>\n",
       "      <td>75.00</td>\n",
       "      <td>77</td>\n",
       "      <td>19</td>\n",
       "      <td>3.00</td>\n",
       "    </tr>\n",
       "    <tr>\n",
       "      <th>4</th>\n",
       "      <td>La Ronge</td>\n",
       "      <td>CA</td>\n",
       "      <td>55.10</td>\n",
       "      <td>-105.28</td>\n",
       "      <td>59.00</td>\n",
       "      <td>67</td>\n",
       "      <td>40</td>\n",
       "      <td>11.41</td>\n",
       "    </tr>\n",
       "    <tr>\n",
       "      <th>...</th>\n",
       "      <td>...</td>\n",
       "      <td>...</td>\n",
       "      <td>...</td>\n",
       "      <td>...</td>\n",
       "      <td>...</td>\n",
       "      <td>...</td>\n",
       "      <td>...</td>\n",
       "      <td>...</td>\n",
       "    </tr>\n",
       "    <tr>\n",
       "      <th>254</th>\n",
       "      <td>Petropavlovsk-Kamchatskiy</td>\n",
       "      <td>RU</td>\n",
       "      <td>53.05</td>\n",
       "      <td>158.65</td>\n",
       "      <td>33.80</td>\n",
       "      <td>80</td>\n",
       "      <td>0</td>\n",
       "      <td>2.24</td>\n",
       "    </tr>\n",
       "    <tr>\n",
       "      <th>255</th>\n",
       "      <td>São Filipe</td>\n",
       "      <td>CV</td>\n",
       "      <td>14.90</td>\n",
       "      <td>-24.50</td>\n",
       "      <td>80.37</td>\n",
       "      <td>76</td>\n",
       "      <td>43</td>\n",
       "      <td>5.46</td>\n",
       "    </tr>\n",
       "    <tr>\n",
       "      <th>256</th>\n",
       "      <td>Balotra</td>\n",
       "      <td>IN</td>\n",
       "      <td>25.83</td>\n",
       "      <td>72.23</td>\n",
       "      <td>87.35</td>\n",
       "      <td>55</td>\n",
       "      <td>5</td>\n",
       "      <td>14.65</td>\n",
       "    </tr>\n",
       "    <tr>\n",
       "      <th>257</th>\n",
       "      <td>Manuk Mangkaw</td>\n",
       "      <td>PH</td>\n",
       "      <td>4.80</td>\n",
       "      <td>119.85</td>\n",
       "      <td>84.47</td>\n",
       "      <td>65</td>\n",
       "      <td>13</td>\n",
       "      <td>2.93</td>\n",
       "    </tr>\n",
       "    <tr>\n",
       "      <th>258</th>\n",
       "      <td>Fairlie</td>\n",
       "      <td>GB</td>\n",
       "      <td>55.76</td>\n",
       "      <td>-4.86</td>\n",
       "      <td>50.00</td>\n",
       "      <td>74</td>\n",
       "      <td>31</td>\n",
       "      <td>14.27</td>\n",
       "    </tr>\n",
       "  </tbody>\n",
       "</table>\n",
       "<p>259 rows × 8 columns</p>\n",
       "</div>"
      ],
      "text/plain": [
       "                          City Country    Lat    Long  Temp_max  Humidity  \\\n",
       "0                       Avarua      CK -21.21 -159.78     73.40        88   \n",
       "1                     Goderich      CA  43.75  -81.72     78.01        72   \n",
       "2                        Vaini      TO -21.20 -175.20     69.80        94   \n",
       "3                 Ponta do Sol      PT  32.67  -17.10     75.00        77   \n",
       "4                     La Ronge      CA  55.10 -105.28     59.00        67   \n",
       "..                         ...     ...    ...     ...       ...       ...   \n",
       "254  Petropavlovsk-Kamchatskiy      RU  53.05  158.65     33.80        80   \n",
       "255                 São Filipe      CV  14.90  -24.50     80.37        76   \n",
       "256                    Balotra      IN  25.83   72.23     87.35        55   \n",
       "257              Manuk Mangkaw      PH   4.80  119.85     84.47        65   \n",
       "258                    Fairlie      GB  55.76   -4.86     50.00        74   \n",
       "\n",
       "     Cloudiness  Wind_Speed  \n",
       "0            87        9.17  \n",
       "1             0        5.75  \n",
       "2            75        4.70  \n",
       "3            19        3.00  \n",
       "4            40       11.41  \n",
       "..          ...         ...  \n",
       "254           0        2.24  \n",
       "255          43        5.46  \n",
       "256           5       14.65  \n",
       "257          13        2.93  \n",
       "258          31       14.27  \n",
       "\n",
       "[259 rows x 8 columns]"
      ]
     },
     "execution_count": 100,
     "metadata": {},
     "output_type": "execute_result"
    }
   ],
   "source": [
    "# Build a dataframe from the json weather data\n",
    "city_data = []\n",
    "\n",
    "for city in cities_results:\n",
    "    city_data.append(\n",
    "        {\n",
    "            \"City\": city[\"name\"],\n",
    "            \"Country\": city[\"sys\"][\"country\"],\n",
    "            \"Lat\": city[\"coord\"][\"lat\"],\n",
    "            \"Long\": city[\"coord\"][\"lon\"],\n",
    "            \"Temp_max\": city[\"main\"][\"temp_max\"],\n",
    "            \"Humidity\": city[\"main\"][\"humidity\"],\n",
    "            \"Cloudiness\": city[\"clouds\"][\"all\"],\n",
    "            \"Wind_Speed\": city[\"wind\"][\"speed\"],\n",
    "        }\n",
    "    )\n",
    "\n",
    "city_weather_df = pd.DataFrame(city_data)\n",
    "city_weather_df.to_csv(\"data/vacation_weather_data.csv\", index=False)\n",
    "city_weather_df"
   ]
  },
  {
   "cell_type": "code",
   "execution_count": 113,
   "metadata": {},
   "outputs": [
    {
     "data": {
      "text/html": [
       "<div>\n",
       "<style scoped>\n",
       "    .dataframe tbody tr th:only-of-type {\n",
       "        vertical-align: middle;\n",
       "    }\n",
       "\n",
       "    .dataframe tbody tr th {\n",
       "        vertical-align: top;\n",
       "    }\n",
       "\n",
       "    .dataframe thead th {\n",
       "        text-align: right;\n",
       "    }\n",
       "</style>\n",
       "<table border=\"1\" class=\"dataframe\">\n",
       "  <thead>\n",
       "    <tr style=\"text-align: right;\">\n",
       "      <th></th>\n",
       "      <th>City</th>\n",
       "      <th>Country</th>\n",
       "      <th>Lat</th>\n",
       "      <th>Long</th>\n",
       "      <th>Temp_max</th>\n",
       "      <th>Humidity</th>\n",
       "      <th>Cloudiness</th>\n",
       "      <th>Wind_Speed</th>\n",
       "    </tr>\n",
       "  </thead>\n",
       "  <tbody>\n",
       "    <tr>\n",
       "      <th>1</th>\n",
       "      <td>Goderich</td>\n",
       "      <td>CA</td>\n",
       "      <td>43.75</td>\n",
       "      <td>-81.72</td>\n",
       "      <td>78.01</td>\n",
       "      <td>72</td>\n",
       "      <td>0</td>\n",
       "      <td>5.75</td>\n",
       "    </tr>\n",
       "    <tr>\n",
       "      <th>7</th>\n",
       "      <td>Carteret</td>\n",
       "      <td>US</td>\n",
       "      <td>40.58</td>\n",
       "      <td>-74.23</td>\n",
       "      <td>79.00</td>\n",
       "      <td>50</td>\n",
       "      <td>1</td>\n",
       "      <td>4.70</td>\n",
       "    </tr>\n",
       "    <tr>\n",
       "      <th>11</th>\n",
       "      <td>Bam</td>\n",
       "      <td>IR</td>\n",
       "      <td>29.11</td>\n",
       "      <td>58.36</td>\n",
       "      <td>70.88</td>\n",
       "      <td>18</td>\n",
       "      <td>0</td>\n",
       "      <td>7.27</td>\n",
       "    </tr>\n",
       "    <tr>\n",
       "      <th>27</th>\n",
       "      <td>Jamestown</td>\n",
       "      <td>US</td>\n",
       "      <td>42.10</td>\n",
       "      <td>-79.24</td>\n",
       "      <td>79.00</td>\n",
       "      <td>56</td>\n",
       "      <td>1</td>\n",
       "      <td>6.93</td>\n",
       "    </tr>\n",
       "    <tr>\n",
       "      <th>69</th>\n",
       "      <td>La Palma</td>\n",
       "      <td>US</td>\n",
       "      <td>33.85</td>\n",
       "      <td>-118.05</td>\n",
       "      <td>75.99</td>\n",
       "      <td>60</td>\n",
       "      <td>1</td>\n",
       "      <td>4.70</td>\n",
       "    </tr>\n",
       "    <tr>\n",
       "      <th>97</th>\n",
       "      <td>Faya</td>\n",
       "      <td>SA</td>\n",
       "      <td>18.39</td>\n",
       "      <td>42.45</td>\n",
       "      <td>73.40</td>\n",
       "      <td>60</td>\n",
       "      <td>0</td>\n",
       "      <td>8.05</td>\n",
       "    </tr>\n",
       "    <tr>\n",
       "      <th>107</th>\n",
       "      <td>Broome</td>\n",
       "      <td>US</td>\n",
       "      <td>42.25</td>\n",
       "      <td>-75.83</td>\n",
       "      <td>79.00</td>\n",
       "      <td>53</td>\n",
       "      <td>1</td>\n",
       "      <td>9.17</td>\n",
       "    </tr>\n",
       "    <tr>\n",
       "      <th>151</th>\n",
       "      <td>Bethel</td>\n",
       "      <td>US</td>\n",
       "      <td>41.37</td>\n",
       "      <td>-73.41</td>\n",
       "      <td>79.00</td>\n",
       "      <td>50</td>\n",
       "      <td>1</td>\n",
       "      <td>4.34</td>\n",
       "    </tr>\n",
       "    <tr>\n",
       "      <th>192</th>\n",
       "      <td>Koumac</td>\n",
       "      <td>NC</td>\n",
       "      <td>-20.57</td>\n",
       "      <td>164.28</td>\n",
       "      <td>71.85</td>\n",
       "      <td>86</td>\n",
       "      <td>0</td>\n",
       "      <td>3.87</td>\n",
       "    </tr>\n",
       "  </tbody>\n",
       "</table>\n",
       "</div>"
      ],
      "text/plain": [
       "          City Country    Lat    Long  Temp_max  Humidity  Cloudiness  \\\n",
       "1     Goderich      CA  43.75  -81.72     78.01        72           0   \n",
       "7     Carteret      US  40.58  -74.23     79.00        50           1   \n",
       "11         Bam      IR  29.11   58.36     70.88        18           0   \n",
       "27   Jamestown      US  42.10  -79.24     79.00        56           1   \n",
       "69    La Palma      US  33.85 -118.05     75.99        60           1   \n",
       "97        Faya      SA  18.39   42.45     73.40        60           0   \n",
       "107     Broome      US  42.25  -75.83     79.00        53           1   \n",
       "151     Bethel      US  41.37  -73.41     79.00        50           1   \n",
       "192     Koumac      NC -20.57  164.28     71.85        86           0   \n",
       "\n",
       "     Wind_Speed  \n",
       "1          5.75  \n",
       "7          4.70  \n",
       "11         7.27  \n",
       "27         6.93  \n",
       "69         4.70  \n",
       "97         8.05  \n",
       "107        9.17  \n",
       "151        4.34  \n",
       "192        3.87  "
      ]
     },
     "execution_count": 113,
     "metadata": {},
     "output_type": "execute_result"
    }
   ],
   "source": [
    "# Make a new dataframe by filtering to desired weather conditions\n",
    "hotel_df = city_weather_df.loc[\n",
    "    (city_weather_df[\"Cloudiness\"] < 10)\n",
    "    & (city_weather_df[\"Wind_Speed\"] < 10)\n",
    "    & (city_weather_df[\"Temp_max\"] > 70)\n",
    "    & (city_weather_df[\"Temp_max\"] < 80)\n",
    "]\n",
    "hotel_df"
   ]
  },
  {
   "cell_type": "code",
   "execution_count": 114,
   "metadata": {},
   "outputs": [
    {
     "name": "stderr",
     "output_type": "stream",
     "text": [
      "/opt/conda/lib/python3.7/site-packages/ipykernel_launcher.py:1: SettingWithCopyWarning:\n",
      "\n",
      "\n",
      "A value is trying to be set on a copy of a slice from a DataFrame.\n",
      "Try using .loc[row_indexer,col_indexer] = value instead\n",
      "\n",
      "See the caveats in the documentation: https://pandas.pydata.org/pandas-docs/stable/user_guide/indexing.html#returning-a-view-versus-a-copy\n",
      "\n"
     ]
    },
    {
     "data": {
      "text/html": [
       "<div>\n",
       "<style scoped>\n",
       "    .dataframe tbody tr th:only-of-type {\n",
       "        vertical-align: middle;\n",
       "    }\n",
       "\n",
       "    .dataframe tbody tr th {\n",
       "        vertical-align: top;\n",
       "    }\n",
       "\n",
       "    .dataframe thead th {\n",
       "        text-align: right;\n",
       "    }\n",
       "</style>\n",
       "<table border=\"1\" class=\"dataframe\">\n",
       "  <thead>\n",
       "    <tr style=\"text-align: right;\">\n",
       "      <th></th>\n",
       "      <th>City</th>\n",
       "      <th>Country</th>\n",
       "      <th>Lat</th>\n",
       "      <th>Long</th>\n",
       "      <th>Temp_max</th>\n",
       "      <th>Humidity</th>\n",
       "      <th>Cloudiness</th>\n",
       "      <th>Wind_Speed</th>\n",
       "      <th>Hotel_Name</th>\n",
       "    </tr>\n",
       "  </thead>\n",
       "  <tbody>\n",
       "    <tr>\n",
       "      <th>1</th>\n",
       "      <td>Goderich</td>\n",
       "      <td>CA</td>\n",
       "      <td>43.75</td>\n",
       "      <td>-81.72</td>\n",
       "      <td>78.01</td>\n",
       "      <td>72</td>\n",
       "      <td>0</td>\n",
       "      <td>5.75</td>\n",
       "      <td></td>\n",
       "    </tr>\n",
       "    <tr>\n",
       "      <th>7</th>\n",
       "      <td>Carteret</td>\n",
       "      <td>US</td>\n",
       "      <td>40.58</td>\n",
       "      <td>-74.23</td>\n",
       "      <td>79.00</td>\n",
       "      <td>50</td>\n",
       "      <td>1</td>\n",
       "      <td>4.70</td>\n",
       "      <td></td>\n",
       "    </tr>\n",
       "    <tr>\n",
       "      <th>11</th>\n",
       "      <td>Bam</td>\n",
       "      <td>IR</td>\n",
       "      <td>29.11</td>\n",
       "      <td>58.36</td>\n",
       "      <td>70.88</td>\n",
       "      <td>18</td>\n",
       "      <td>0</td>\n",
       "      <td>7.27</td>\n",
       "      <td></td>\n",
       "    </tr>\n",
       "    <tr>\n",
       "      <th>27</th>\n",
       "      <td>Jamestown</td>\n",
       "      <td>US</td>\n",
       "      <td>42.10</td>\n",
       "      <td>-79.24</td>\n",
       "      <td>79.00</td>\n",
       "      <td>56</td>\n",
       "      <td>1</td>\n",
       "      <td>6.93</td>\n",
       "      <td></td>\n",
       "    </tr>\n",
       "    <tr>\n",
       "      <th>69</th>\n",
       "      <td>La Palma</td>\n",
       "      <td>US</td>\n",
       "      <td>33.85</td>\n",
       "      <td>-118.05</td>\n",
       "      <td>75.99</td>\n",
       "      <td>60</td>\n",
       "      <td>1</td>\n",
       "      <td>4.70</td>\n",
       "      <td></td>\n",
       "    </tr>\n",
       "    <tr>\n",
       "      <th>97</th>\n",
       "      <td>Faya</td>\n",
       "      <td>SA</td>\n",
       "      <td>18.39</td>\n",
       "      <td>42.45</td>\n",
       "      <td>73.40</td>\n",
       "      <td>60</td>\n",
       "      <td>0</td>\n",
       "      <td>8.05</td>\n",
       "      <td></td>\n",
       "    </tr>\n",
       "    <tr>\n",
       "      <th>107</th>\n",
       "      <td>Broome</td>\n",
       "      <td>US</td>\n",
       "      <td>42.25</td>\n",
       "      <td>-75.83</td>\n",
       "      <td>79.00</td>\n",
       "      <td>53</td>\n",
       "      <td>1</td>\n",
       "      <td>9.17</td>\n",
       "      <td></td>\n",
       "    </tr>\n",
       "    <tr>\n",
       "      <th>151</th>\n",
       "      <td>Bethel</td>\n",
       "      <td>US</td>\n",
       "      <td>41.37</td>\n",
       "      <td>-73.41</td>\n",
       "      <td>79.00</td>\n",
       "      <td>50</td>\n",
       "      <td>1</td>\n",
       "      <td>4.34</td>\n",
       "      <td></td>\n",
       "    </tr>\n",
       "    <tr>\n",
       "      <th>192</th>\n",
       "      <td>Koumac</td>\n",
       "      <td>NC</td>\n",
       "      <td>-20.57</td>\n",
       "      <td>164.28</td>\n",
       "      <td>71.85</td>\n",
       "      <td>86</td>\n",
       "      <td>0</td>\n",
       "      <td>3.87</td>\n",
       "      <td></td>\n",
       "    </tr>\n",
       "  </tbody>\n",
       "</table>\n",
       "</div>"
      ],
      "text/plain": [
       "          City Country    Lat    Long  Temp_max  Humidity  Cloudiness  \\\n",
       "1     Goderich      CA  43.75  -81.72     78.01        72           0   \n",
       "7     Carteret      US  40.58  -74.23     79.00        50           1   \n",
       "11         Bam      IR  29.11   58.36     70.88        18           0   \n",
       "27   Jamestown      US  42.10  -79.24     79.00        56           1   \n",
       "69    La Palma      US  33.85 -118.05     75.99        60           1   \n",
       "97        Faya      SA  18.39   42.45     73.40        60           0   \n",
       "107     Broome      US  42.25  -75.83     79.00        53           1   \n",
       "151     Bethel      US  41.37  -73.41     79.00        50           1   \n",
       "192     Koumac      NC -20.57  164.28     71.85        86           0   \n",
       "\n",
       "     Wind_Speed Hotel_Name  \n",
       "1          5.75             \n",
       "7          4.70             \n",
       "11         7.27             \n",
       "27         6.93             \n",
       "69         4.70             \n",
       "97         8.05             \n",
       "107        9.17             \n",
       "151        4.34             \n",
       "192        3.87             "
      ]
     },
     "execution_count": 114,
     "metadata": {},
     "output_type": "execute_result"
    }
   ],
   "source": [
    "hotel_df[\"Hotel_Name\"] = \"\"\n",
    "hotel_df"
   ]
  },
  {
   "cell_type": "code",
   "execution_count": 115,
   "metadata": {},
   "outputs": [
    {
     "data": {
      "text/plain": [
       "{'coord': {'lon': -159.78, 'lat': -21.21},\n",
       " 'weather': [{'id': 301,\n",
       "   'main': 'Drizzle',\n",
       "   'description': 'drizzle',\n",
       "   'icon': '09d'}],\n",
       " 'base': 'stations',\n",
       " 'main': {'temp': 73.4,\n",
       "  'feels_like': 75.69,\n",
       "  'temp_min': 73.4,\n",
       "  'temp_max': 73.4,\n",
       "  'pressure': 1017,\n",
       "  'humidity': 88},\n",
       " 'visibility': 6000,\n",
       " 'wind': {'speed': 9.17, 'deg': 120},\n",
       " 'clouds': {'all': 87},\n",
       " 'dt': 1601058010,\n",
       " 'sys': {'type': 1,\n",
       "  'id': 7271,\n",
       "  'country': 'CK',\n",
       "  'sunrise': 1601051105,\n",
       "  'sunset': 1601094956},\n",
       " 'timezone': -36000,\n",
       " 'id': 4035715,\n",
       " 'name': 'Avarua',\n",
       " 'cod': 200}"
      ]
     },
     "execution_count": 115,
     "metadata": {},
     "output_type": "execute_result"
    }
   ],
   "source": [
    "cities_results[0]"
   ]
  },
  {
   "cell_type": "code",
   "execution_count": 116,
   "metadata": {},
   "outputs": [
    {
     "name": "stderr",
     "output_type": "stream",
     "text": [
      "/opt/conda/lib/python3.7/site-packages/pandas/core/indexing.py:966: SettingWithCopyWarning:\n",
      "\n",
      "\n",
      "A value is trying to be set on a copy of a slice from a DataFrame.\n",
      "Try using .loc[row_indexer,col_indexer] = value instead\n",
      "\n",
      "See the caveats in the documentation: https://pandas.pydata.org/pandas-docs/stable/user_guide/indexing.html#returning-a-view-versus-a-copy\n",
      "\n"
     ]
    },
    {
     "data": {
      "text/html": [
       "<div>\n",
       "<style scoped>\n",
       "    .dataframe tbody tr th:only-of-type {\n",
       "        vertical-align: middle;\n",
       "    }\n",
       "\n",
       "    .dataframe tbody tr th {\n",
       "        vertical-align: top;\n",
       "    }\n",
       "\n",
       "    .dataframe thead th {\n",
       "        text-align: right;\n",
       "    }\n",
       "</style>\n",
       "<table border=\"1\" class=\"dataframe\">\n",
       "  <thead>\n",
       "    <tr style=\"text-align: right;\">\n",
       "      <th></th>\n",
       "      <th>City</th>\n",
       "      <th>Country</th>\n",
       "      <th>Lat</th>\n",
       "      <th>Long</th>\n",
       "      <th>Temp_max</th>\n",
       "      <th>Humidity</th>\n",
       "      <th>Cloudiness</th>\n",
       "      <th>Wind_Speed</th>\n",
       "      <th>Hotel_Name</th>\n",
       "    </tr>\n",
       "  </thead>\n",
       "  <tbody>\n",
       "    <tr>\n",
       "      <th>1</th>\n",
       "      <td>Goderich</td>\n",
       "      <td>CA</td>\n",
       "      <td>43.75</td>\n",
       "      <td>-81.72</td>\n",
       "      <td>78.01</td>\n",
       "      <td>72</td>\n",
       "      <td>0</td>\n",
       "      <td>5.75</td>\n",
       "      <td>Harmony Inn</td>\n",
       "    </tr>\n",
       "    <tr>\n",
       "      <th>7</th>\n",
       "      <td>Carteret</td>\n",
       "      <td>US</td>\n",
       "      <td>40.58</td>\n",
       "      <td>-74.23</td>\n",
       "      <td>79.00</td>\n",
       "      <td>50</td>\n",
       "      <td>1</td>\n",
       "      <td>4.70</td>\n",
       "      <td>Hotel Executive Suites</td>\n",
       "    </tr>\n",
       "    <tr>\n",
       "      <th>11</th>\n",
       "      <td>Bam</td>\n",
       "      <td>IR</td>\n",
       "      <td>29.11</td>\n",
       "      <td>58.36</td>\n",
       "      <td>70.88</td>\n",
       "      <td>18</td>\n",
       "      <td>0</td>\n",
       "      <td>7.27</td>\n",
       "      <td>Bam Tourist Hotel</td>\n",
       "    </tr>\n",
       "    <tr>\n",
       "      <th>27</th>\n",
       "      <td>Jamestown</td>\n",
       "      <td>US</td>\n",
       "      <td>42.10</td>\n",
       "      <td>-79.24</td>\n",
       "      <td>79.00</td>\n",
       "      <td>56</td>\n",
       "      <td>1</td>\n",
       "      <td>6.93</td>\n",
       "      <td>Hampton Inn &amp; Suites Jamestown</td>\n",
       "    </tr>\n",
       "    <tr>\n",
       "      <th>69</th>\n",
       "      <td>La Palma</td>\n",
       "      <td>US</td>\n",
       "      <td>33.85</td>\n",
       "      <td>-118.05</td>\n",
       "      <td>75.99</td>\n",
       "      <td>60</td>\n",
       "      <td>1</td>\n",
       "      <td>4.70</td>\n",
       "      <td>La Quinta Inn &amp; Suites by Wyndham Buena Park</td>\n",
       "    </tr>\n",
       "    <tr>\n",
       "      <th>97</th>\n",
       "      <td>Faya</td>\n",
       "      <td>SA</td>\n",
       "      <td>18.39</td>\n",
       "      <td>42.45</td>\n",
       "      <td>73.40</td>\n",
       "      <td>60</td>\n",
       "      <td>0</td>\n",
       "      <td>8.05</td>\n",
       "      <td>مقبرة ال مجمل</td>\n",
       "    </tr>\n",
       "    <tr>\n",
       "      <th>107</th>\n",
       "      <td>Broome</td>\n",
       "      <td>US</td>\n",
       "      <td>42.25</td>\n",
       "      <td>-75.83</td>\n",
       "      <td>79.00</td>\n",
       "      <td>53</td>\n",
       "      <td>1</td>\n",
       "      <td>9.17</td>\n",
       "      <td>Chenango Valley State Park</td>\n",
       "    </tr>\n",
       "    <tr>\n",
       "      <th>151</th>\n",
       "      <td>Bethel</td>\n",
       "      <td>US</td>\n",
       "      <td>41.37</td>\n",
       "      <td>-73.41</td>\n",
       "      <td>79.00</td>\n",
       "      <td>50</td>\n",
       "      <td>1</td>\n",
       "      <td>4.34</td>\n",
       "      <td>Courtyard by Marriott Danbury</td>\n",
       "    </tr>\n",
       "    <tr>\n",
       "      <th>192</th>\n",
       "      <td>Koumac</td>\n",
       "      <td>NC</td>\n",
       "      <td>-20.57</td>\n",
       "      <td>164.28</td>\n",
       "      <td>71.85</td>\n",
       "      <td>86</td>\n",
       "      <td>0</td>\n",
       "      <td>3.87</td>\n",
       "      <td>Le Monitel</td>\n",
       "    </tr>\n",
       "  </tbody>\n",
       "</table>\n",
       "</div>"
      ],
      "text/plain": [
       "          City Country    Lat    Long  Temp_max  Humidity  Cloudiness  \\\n",
       "1     Goderich      CA  43.75  -81.72     78.01        72           0   \n",
       "7     Carteret      US  40.58  -74.23     79.00        50           1   \n",
       "11         Bam      IR  29.11   58.36     70.88        18           0   \n",
       "27   Jamestown      US  42.10  -79.24     79.00        56           1   \n",
       "69    La Palma      US  33.85 -118.05     75.99        60           1   \n",
       "97        Faya      SA  18.39   42.45     73.40        60           0   \n",
       "107     Broome      US  42.25  -75.83     79.00        53           1   \n",
       "151     Bethel      US  41.37  -73.41     79.00        50           1   \n",
       "192     Koumac      NC -20.57  164.28     71.85        86           0   \n",
       "\n",
       "     Wind_Speed                                    Hotel_Name  \n",
       "1          5.75                                   Harmony Inn  \n",
       "7          4.70                        Hotel Executive Suites  \n",
       "11         7.27                             Bam Tourist Hotel  \n",
       "27         6.93                Hampton Inn & Suites Jamestown  \n",
       "69         4.70  La Quinta Inn & Suites by Wyndham Buena Park  \n",
       "97         8.05                                 مقبرة ال مجمل  \n",
       "107        9.17                    Chenango Valley State Park  \n",
       "151        4.34                 Courtyard by Marriott Danbury  \n",
       "192        3.87                                    Le Monitel  "
      ]
     },
     "execution_count": 116,
     "metadata": {},
     "output_type": "execute_result"
    }
   ],
   "source": [
    "for i in hotel_df.index:\n",
    "\n",
    "    lat = hotel_df.loc[i, \"Lat\"]\n",
    "\n",
    "    lng = hotel_df.loc[i, \"Long\"]\n",
    "\n",
    "    lat_lng_str = str(lat) + \",\" + str(lng)\n",
    "\n",
    "    try:\n",
    "        r = requests.get(\n",
    "            \"https://maps.googleapis.com/maps/api/place/nearbysearch/json\",\n",
    "            params={\n",
    "                \"location\": lat_lng_str,\n",
    "                \"radius\": 5000,\n",
    "                \"type\": \"lodging\",\n",
    "                \"key\": g_key,\n",
    "            },\n",
    "        )\n",
    "        hotel_df.loc[i, \"Hotel_Name\"] = r.json()[\"results\"][0][\"name\"]\n",
    "    except:\n",
    "        pass\n",
    "hotel_df"
   ]
  },
  {
   "cell_type": "code",
   "execution_count": 111,
   "metadata": {},
   "outputs": [
    {
     "data": {
      "application/vnd.plotly.v1+json": {
       "config": {
        "plotlyServerURL": "https://plot.ly"
       },
       "data": [
        {
         "customdata": [
          [
           "Harmony Inn",
           "Goderich",
           "CA"
          ],
          [
           "Hotel Executive Suites",
           "Carteret",
           "US"
          ],
          [
           "Bam Tourist Hotel",
           "Bam",
           "IR"
          ],
          [
           "Hampton Inn & Suites Jamestown",
           "Jamestown",
           "US"
          ],
          [
           "La Quinta Inn & Suites by Wyndham Buena Park",
           "La Palma",
           "US"
          ],
          [
           "مقبرة ال مجمل",
           "Faya",
           "SA"
          ],
          [
           "Chenango Valley State Park",
           "Broome",
           "US"
          ],
          [
           "Courtyard by Marriott Danbury",
           "Bethel",
           "US"
          ],
          [
           "Le Monitel",
           "Koumac",
           "NC"
          ]
         ],
         "hovertemplate": "Lat=%{lat}<br>Long=%{lon}<br>Hotel_Name=%{customdata[0]}<br>City=%{customdata[1]}<br>Country=%{customdata[2]}<br>Humidity=%{marker.color}<extra></extra>",
         "lat": [
          43.75,
          40.58,
          29.11,
          42.1,
          33.85,
          18.39,
          42.25,
          41.37,
          -20.57
         ],
         "legendgroup": "",
         "lon": [
          -81.72,
          -74.23,
          58.36,
          -79.24,
          -118.05,
          42.45,
          -75.83,
          -73.41,
          164.28
         ],
         "marker": {
          "color": [
           72,
           50,
           18,
           56,
           60,
           60,
           53,
           50,
           86
          ],
          "coloraxis": "coloraxis"
         },
         "mode": "markers",
         "name": "",
         "showlegend": false,
         "subplot": "mapbox",
         "type": "scattermapbox"
        }
       ],
       "layout": {
        "autosize": true,
        "coloraxis": {
         "colorbar": {
          "title": {
           "text": "Humidity"
          }
         },
         "colorscale": [
          [
           0,
           "#0d0887"
          ],
          [
           0.1111111111111111,
           "#46039f"
          ],
          [
           0.2222222222222222,
           "#7201a8"
          ],
          [
           0.3333333333333333,
           "#9c179e"
          ],
          [
           0.4444444444444444,
           "#bd3786"
          ],
          [
           0.5555555555555556,
           "#d8576b"
          ],
          [
           0.6666666666666666,
           "#ed7953"
          ],
          [
           0.7777777777777778,
           "#fb9f3a"
          ],
          [
           0.8888888888888888,
           "#fdca26"
          ],
          [
           1,
           "#f0f921"
          ]
         ]
        },
        "legend": {
         "tracegroupgap": 0
        },
        "mapbox": {
         "accesstoken": "pk.eyJ1IjoicmFjaGVsbGVlcmV5bm9sZHM4NSIsImEiOiJja2Y5dzI4OGYwMTlzMnFwZHFoN2NjanV5In0._9M8fGH_2Ge9l2lextgMLQ",
         "bearing": 0,
         "center": {
          "lat": 12.913200887908886,
          "lon": 2.6430258829200284
         },
         "domain": {
          "x": [
           0,
           1
          ],
          "y": [
           0,
           1
          ]
         },
         "pitch": 0,
         "zoom": 1.2276344262285834
        },
        "template": {
         "data": {
          "bar": [
           {
            "error_x": {
             "color": "#2a3f5f"
            },
            "error_y": {
             "color": "#2a3f5f"
            },
            "marker": {
             "line": {
              "color": "#E5ECF6",
              "width": 0.5
             }
            },
            "type": "bar"
           }
          ],
          "barpolar": [
           {
            "marker": {
             "line": {
              "color": "#E5ECF6",
              "width": 0.5
             }
            },
            "type": "barpolar"
           }
          ],
          "carpet": [
           {
            "aaxis": {
             "endlinecolor": "#2a3f5f",
             "gridcolor": "white",
             "linecolor": "white",
             "minorgridcolor": "white",
             "startlinecolor": "#2a3f5f"
            },
            "baxis": {
             "endlinecolor": "#2a3f5f",
             "gridcolor": "white",
             "linecolor": "white",
             "minorgridcolor": "white",
             "startlinecolor": "#2a3f5f"
            },
            "type": "carpet"
           }
          ],
          "choropleth": [
           {
            "colorbar": {
             "outlinewidth": 0,
             "ticks": ""
            },
            "type": "choropleth"
           }
          ],
          "contour": [
           {
            "colorbar": {
             "outlinewidth": 0,
             "ticks": ""
            },
            "colorscale": [
             [
              0,
              "#0d0887"
             ],
             [
              0.1111111111111111,
              "#46039f"
             ],
             [
              0.2222222222222222,
              "#7201a8"
             ],
             [
              0.3333333333333333,
              "#9c179e"
             ],
             [
              0.4444444444444444,
              "#bd3786"
             ],
             [
              0.5555555555555556,
              "#d8576b"
             ],
             [
              0.6666666666666666,
              "#ed7953"
             ],
             [
              0.7777777777777778,
              "#fb9f3a"
             ],
             [
              0.8888888888888888,
              "#fdca26"
             ],
             [
              1,
              "#f0f921"
             ]
            ],
            "type": "contour"
           }
          ],
          "contourcarpet": [
           {
            "colorbar": {
             "outlinewidth": 0,
             "ticks": ""
            },
            "type": "contourcarpet"
           }
          ],
          "heatmap": [
           {
            "colorbar": {
             "outlinewidth": 0,
             "ticks": ""
            },
            "colorscale": [
             [
              0,
              "#0d0887"
             ],
             [
              0.1111111111111111,
              "#46039f"
             ],
             [
              0.2222222222222222,
              "#7201a8"
             ],
             [
              0.3333333333333333,
              "#9c179e"
             ],
             [
              0.4444444444444444,
              "#bd3786"
             ],
             [
              0.5555555555555556,
              "#d8576b"
             ],
             [
              0.6666666666666666,
              "#ed7953"
             ],
             [
              0.7777777777777778,
              "#fb9f3a"
             ],
             [
              0.8888888888888888,
              "#fdca26"
             ],
             [
              1,
              "#f0f921"
             ]
            ],
            "type": "heatmap"
           }
          ],
          "heatmapgl": [
           {
            "colorbar": {
             "outlinewidth": 0,
             "ticks": ""
            },
            "colorscale": [
             [
              0,
              "#0d0887"
             ],
             [
              0.1111111111111111,
              "#46039f"
             ],
             [
              0.2222222222222222,
              "#7201a8"
             ],
             [
              0.3333333333333333,
              "#9c179e"
             ],
             [
              0.4444444444444444,
              "#bd3786"
             ],
             [
              0.5555555555555556,
              "#d8576b"
             ],
             [
              0.6666666666666666,
              "#ed7953"
             ],
             [
              0.7777777777777778,
              "#fb9f3a"
             ],
             [
              0.8888888888888888,
              "#fdca26"
             ],
             [
              1,
              "#f0f921"
             ]
            ],
            "type": "heatmapgl"
           }
          ],
          "histogram": [
           {
            "marker": {
             "colorbar": {
              "outlinewidth": 0,
              "ticks": ""
             }
            },
            "type": "histogram"
           }
          ],
          "histogram2d": [
           {
            "colorbar": {
             "outlinewidth": 0,
             "ticks": ""
            },
            "colorscale": [
             [
              0,
              "#0d0887"
             ],
             [
              0.1111111111111111,
              "#46039f"
             ],
             [
              0.2222222222222222,
              "#7201a8"
             ],
             [
              0.3333333333333333,
              "#9c179e"
             ],
             [
              0.4444444444444444,
              "#bd3786"
             ],
             [
              0.5555555555555556,
              "#d8576b"
             ],
             [
              0.6666666666666666,
              "#ed7953"
             ],
             [
              0.7777777777777778,
              "#fb9f3a"
             ],
             [
              0.8888888888888888,
              "#fdca26"
             ],
             [
              1,
              "#f0f921"
             ]
            ],
            "type": "histogram2d"
           }
          ],
          "histogram2dcontour": [
           {
            "colorbar": {
             "outlinewidth": 0,
             "ticks": ""
            },
            "colorscale": [
             [
              0,
              "#0d0887"
             ],
             [
              0.1111111111111111,
              "#46039f"
             ],
             [
              0.2222222222222222,
              "#7201a8"
             ],
             [
              0.3333333333333333,
              "#9c179e"
             ],
             [
              0.4444444444444444,
              "#bd3786"
             ],
             [
              0.5555555555555556,
              "#d8576b"
             ],
             [
              0.6666666666666666,
              "#ed7953"
             ],
             [
              0.7777777777777778,
              "#fb9f3a"
             ],
             [
              0.8888888888888888,
              "#fdca26"
             ],
             [
              1,
              "#f0f921"
             ]
            ],
            "type": "histogram2dcontour"
           }
          ],
          "mesh3d": [
           {
            "colorbar": {
             "outlinewidth": 0,
             "ticks": ""
            },
            "type": "mesh3d"
           }
          ],
          "parcoords": [
           {
            "line": {
             "colorbar": {
              "outlinewidth": 0,
              "ticks": ""
             }
            },
            "type": "parcoords"
           }
          ],
          "pie": [
           {
            "automargin": true,
            "type": "pie"
           }
          ],
          "scatter": [
           {
            "marker": {
             "colorbar": {
              "outlinewidth": 0,
              "ticks": ""
             }
            },
            "type": "scatter"
           }
          ],
          "scatter3d": [
           {
            "line": {
             "colorbar": {
              "outlinewidth": 0,
              "ticks": ""
             }
            },
            "marker": {
             "colorbar": {
              "outlinewidth": 0,
              "ticks": ""
             }
            },
            "type": "scatter3d"
           }
          ],
          "scattercarpet": [
           {
            "marker": {
             "colorbar": {
              "outlinewidth": 0,
              "ticks": ""
             }
            },
            "type": "scattercarpet"
           }
          ],
          "scattergeo": [
           {
            "marker": {
             "colorbar": {
              "outlinewidth": 0,
              "ticks": ""
             }
            },
            "type": "scattergeo"
           }
          ],
          "scattergl": [
           {
            "marker": {
             "colorbar": {
              "outlinewidth": 0,
              "ticks": ""
             }
            },
            "type": "scattergl"
           }
          ],
          "scattermapbox": [
           {
            "marker": {
             "colorbar": {
              "outlinewidth": 0,
              "ticks": ""
             }
            },
            "type": "scattermapbox"
           }
          ],
          "scatterpolar": [
           {
            "marker": {
             "colorbar": {
              "outlinewidth": 0,
              "ticks": ""
             }
            },
            "type": "scatterpolar"
           }
          ],
          "scatterpolargl": [
           {
            "marker": {
             "colorbar": {
              "outlinewidth": 0,
              "ticks": ""
             }
            },
            "type": "scatterpolargl"
           }
          ],
          "scatterternary": [
           {
            "marker": {
             "colorbar": {
              "outlinewidth": 0,
              "ticks": ""
             }
            },
            "type": "scatterternary"
           }
          ],
          "surface": [
           {
            "colorbar": {
             "outlinewidth": 0,
             "ticks": ""
            },
            "colorscale": [
             [
              0,
              "#0d0887"
             ],
             [
              0.1111111111111111,
              "#46039f"
             ],
             [
              0.2222222222222222,
              "#7201a8"
             ],
             [
              0.3333333333333333,
              "#9c179e"
             ],
             [
              0.4444444444444444,
              "#bd3786"
             ],
             [
              0.5555555555555556,
              "#d8576b"
             ],
             [
              0.6666666666666666,
              "#ed7953"
             ],
             [
              0.7777777777777778,
              "#fb9f3a"
             ],
             [
              0.8888888888888888,
              "#fdca26"
             ],
             [
              1,
              "#f0f921"
             ]
            ],
            "type": "surface"
           }
          ],
          "table": [
           {
            "cells": {
             "fill": {
              "color": "#EBF0F8"
             },
             "line": {
              "color": "white"
             }
            },
            "header": {
             "fill": {
              "color": "#C8D4E3"
             },
             "line": {
              "color": "white"
             }
            },
            "type": "table"
           }
          ]
         },
         "layout": {
          "annotationdefaults": {
           "arrowcolor": "#2a3f5f",
           "arrowhead": 0,
           "arrowwidth": 1
          },
          "coloraxis": {
           "colorbar": {
            "outlinewidth": 0,
            "ticks": ""
           }
          },
          "colorscale": {
           "diverging": [
            [
             0,
             "#8e0152"
            ],
            [
             0.1,
             "#c51b7d"
            ],
            [
             0.2,
             "#de77ae"
            ],
            [
             0.3,
             "#f1b6da"
            ],
            [
             0.4,
             "#fde0ef"
            ],
            [
             0.5,
             "#f7f7f7"
            ],
            [
             0.6,
             "#e6f5d0"
            ],
            [
             0.7,
             "#b8e186"
            ],
            [
             0.8,
             "#7fbc41"
            ],
            [
             0.9,
             "#4d9221"
            ],
            [
             1,
             "#276419"
            ]
           ],
           "sequential": [
            [
             0,
             "#0d0887"
            ],
            [
             0.1111111111111111,
             "#46039f"
            ],
            [
             0.2222222222222222,
             "#7201a8"
            ],
            [
             0.3333333333333333,
             "#9c179e"
            ],
            [
             0.4444444444444444,
             "#bd3786"
            ],
            [
             0.5555555555555556,
             "#d8576b"
            ],
            [
             0.6666666666666666,
             "#ed7953"
            ],
            [
             0.7777777777777778,
             "#fb9f3a"
            ],
            [
             0.8888888888888888,
             "#fdca26"
            ],
            [
             1,
             "#f0f921"
            ]
           ],
           "sequentialminus": [
            [
             0,
             "#0d0887"
            ],
            [
             0.1111111111111111,
             "#46039f"
            ],
            [
             0.2222222222222222,
             "#7201a8"
            ],
            [
             0.3333333333333333,
             "#9c179e"
            ],
            [
             0.4444444444444444,
             "#bd3786"
            ],
            [
             0.5555555555555556,
             "#d8576b"
            ],
            [
             0.6666666666666666,
             "#ed7953"
            ],
            [
             0.7777777777777778,
             "#fb9f3a"
            ],
            [
             0.8888888888888888,
             "#fdca26"
            ],
            [
             1,
             "#f0f921"
            ]
           ]
          },
          "colorway": [
           "#636efa",
           "#EF553B",
           "#00cc96",
           "#ab63fa",
           "#FFA15A",
           "#19d3f3",
           "#FF6692",
           "#B6E880",
           "#FF97FF",
           "#FECB52"
          ],
          "font": {
           "color": "#2a3f5f"
          },
          "geo": {
           "bgcolor": "white",
           "lakecolor": "white",
           "landcolor": "#E5ECF6",
           "showlakes": true,
           "showland": true,
           "subunitcolor": "white"
          },
          "hoverlabel": {
           "align": "left"
          },
          "hovermode": "closest",
          "mapbox": {
           "style": "light"
          },
          "paper_bgcolor": "white",
          "plot_bgcolor": "#E5ECF6",
          "polar": {
           "angularaxis": {
            "gridcolor": "white",
            "linecolor": "white",
            "ticks": ""
           },
           "bgcolor": "#E5ECF6",
           "radialaxis": {
            "gridcolor": "white",
            "linecolor": "white",
            "ticks": ""
           }
          },
          "scene": {
           "xaxis": {
            "backgroundcolor": "#E5ECF6",
            "gridcolor": "white",
            "gridwidth": 2,
            "linecolor": "white",
            "showbackground": true,
            "ticks": "",
            "zerolinecolor": "white"
           },
           "yaxis": {
            "backgroundcolor": "#E5ECF6",
            "gridcolor": "white",
            "gridwidth": 2,
            "linecolor": "white",
            "showbackground": true,
            "ticks": "",
            "zerolinecolor": "white"
           },
           "zaxis": {
            "backgroundcolor": "#E5ECF6",
            "gridcolor": "white",
            "gridwidth": 2,
            "linecolor": "white",
            "showbackground": true,
            "ticks": "",
            "zerolinecolor": "white"
           }
          },
          "shapedefaults": {
           "line": {
            "color": "#2a3f5f"
           }
          },
          "ternary": {
           "aaxis": {
            "gridcolor": "white",
            "linecolor": "white",
            "ticks": ""
           },
           "baxis": {
            "gridcolor": "white",
            "linecolor": "white",
            "ticks": ""
           },
           "bgcolor": "#E5ECF6",
           "caxis": {
            "gridcolor": "white",
            "linecolor": "white",
            "ticks": ""
           }
          },
          "title": {
           "x": 0.05
          },
          "xaxis": {
           "automargin": true,
           "gridcolor": "white",
           "linecolor": "white",
           "ticks": "",
           "title": {
            "standoff": 15
           },
           "zerolinecolor": "white",
           "zerolinewidth": 2
          },
          "yaxis": {
           "automargin": true,
           "gridcolor": "white",
           "linecolor": "white",
           "ticks": "",
           "title": {
            "standoff": 15
           },
           "zerolinecolor": "white",
           "zerolinewidth": 2
          }
         }
        },
        "title": {
         "text": "Hotels in Vacation Cities (2020-09-25)"
        }
       }
      },
      "image/png": "[encoded data removed]",
      "text/html": [
       "<div>                            <div id=\"7fef3844-f667-40f2-bba0-17b41977307a\" class=\"plotly-graph-div\" style=\"height:525px; width:100%;\"></div>            <script type=\"text/javascript\">                require([\"plotly\"], function(Plotly) {                    window.PLOTLYENV=window.PLOTLYENV || {};                                    if (document.getElementById(\"7fef3844-f667-40f2-bba0-17b41977307a\")) {                    Plotly.newPlot(                        \"7fef3844-f667-40f2-bba0-17b41977307a\",                        [{\"customdata\": [[\"Harmony Inn\", \"Goderich\", \"CA\"], [\"Hotel Executive Suites\", \"Carteret\", \"US\"], [\"Bam Tourist Hotel\", \"Bam\", \"IR\"], [\"Hampton Inn & Suites Jamestown\", \"Jamestown\", \"US\"], [\"La Quinta Inn & Suites by Wyndham Buena Park\", \"La Palma\", \"US\"], [\"\\u0645\\u0642\\u0628\\u0631\\u0629 \\u0627\\u0644 \\u0645\\u062c\\u0645\\u0644\", \"Faya\", \"SA\"], [\"Chenango Valley State Park\", \"Broome\", \"US\"], [\"Courtyard by Marriott Danbury\", \"Bethel\", \"US\"], [\"Le Monitel\", \"Koumac\", \"NC\"]], \"hovertemplate\": \"Lat=%{lat}<br>Long=%{lon}<br>Hotel_Name=%{customdata[0]}<br>City=%{customdata[1]}<br>Country=%{customdata[2]}<br>Humidity=%{marker.color}<extra></extra>\", \"lat\": [43.75, 40.58, 29.11, 42.1, 33.85, 18.39, 42.25, 41.37, -20.57], \"legendgroup\": \"\", \"lon\": [-81.72, -74.23, 58.36, -79.24, -118.05, 42.45, -75.83, -73.41, 164.28], \"marker\": {\"color\": [72, 50, 18, 56, 60, 60, 53, 50, 86], \"coloraxis\": \"coloraxis\"}, \"mode\": \"markers\", \"name\": \"\", \"showlegend\": false, \"subplot\": \"mapbox\", \"type\": \"scattermapbox\"}],                        {\"coloraxis\": {\"colorbar\": {\"title\": {\"text\": \"Humidity\"}}, \"colorscale\": [[0.0, \"#0d0887\"], [0.1111111111111111, \"#46039f\"], [0.2222222222222222, \"#7201a8\"], [0.3333333333333333, \"#9c179e\"], [0.4444444444444444, \"#bd3786\"], [0.5555555555555556, \"#d8576b\"], [0.6666666666666666, \"#ed7953\"], [0.7777777777777778, \"#fb9f3a\"], [0.8888888888888888, \"#fdca26\"], [1.0, \"#f0f921\"]]}, \"legend\": {\"tracegroupgap\": 0}, \"mapbox\": {\"accesstoken\": \"pk.eyJ1IjoicmFjaGVsbGVlcmV5bm9sZHM4NSIsImEiOiJja2Y5dzI4OGYwMTlzMnFwZHFoN2NjanV5In0._9M8fGH_2Ge9l2lextgMLQ\", \"center\": {\"lat\": 30.09222222222222, \"lon\": -26.37666666666666}, \"domain\": {\"x\": [0.0, 1.0], \"y\": [0.0, 1.0]}, \"zoom\": 8}, \"template\": {\"data\": {\"bar\": [{\"error_x\": {\"color\": \"#2a3f5f\"}, \"error_y\": {\"color\": \"#2a3f5f\"}, \"marker\": {\"line\": {\"color\": \"#E5ECF6\", \"width\": 0.5}}, \"type\": \"bar\"}], \"barpolar\": [{\"marker\": {\"line\": {\"color\": \"#E5ECF6\", \"width\": 0.5}}, \"type\": \"barpolar\"}], \"carpet\": [{\"aaxis\": {\"endlinecolor\": \"#2a3f5f\", \"gridcolor\": \"white\", \"linecolor\": \"white\", \"minorgridcolor\": \"white\", \"startlinecolor\": \"#2a3f5f\"}, \"baxis\": {\"endlinecolor\": \"#2a3f5f\", \"gridcolor\": \"white\", \"linecolor\": \"white\", \"minorgridcolor\": \"white\", \"startlinecolor\": \"#2a3f5f\"}, \"type\": \"carpet\"}], \"choropleth\": [{\"colorbar\": {\"outlinewidth\": 0, \"ticks\": \"\"}, \"type\": \"choropleth\"}], \"contour\": [{\"colorbar\": {\"outlinewidth\": 0, \"ticks\": \"\"}, \"colorscale\": [[0.0, \"#0d0887\"], [0.1111111111111111, \"#46039f\"], [0.2222222222222222, \"#7201a8\"], [0.3333333333333333, \"#9c179e\"], [0.4444444444444444, \"#bd3786\"], [0.5555555555555556, \"#d8576b\"], [0.6666666666666666, \"#ed7953\"], [0.7777777777777778, \"#fb9f3a\"], [0.8888888888888888, \"#fdca26\"], [1.0, \"#f0f921\"]], \"type\": \"contour\"}], \"contourcarpet\": [{\"colorbar\": {\"outlinewidth\": 0, \"ticks\": \"\"}, \"type\": \"contourcarpet\"}], \"heatmap\": [{\"colorbar\": {\"outlinewidth\": 0, \"ticks\": \"\"}, \"colorscale\": [[0.0, \"#0d0887\"], [0.1111111111111111, \"#46039f\"], [0.2222222222222222, \"#7201a8\"], [0.3333333333333333, \"#9c179e\"], [0.4444444444444444, \"#bd3786\"], [0.5555555555555556, \"#d8576b\"], [0.6666666666666666, \"#ed7953\"], [0.7777777777777778, \"#fb9f3a\"], [0.8888888888888888, \"#fdca26\"], [1.0, \"#f0f921\"]], \"type\": \"heatmap\"}], \"heatmapgl\": [{\"colorbar\": {\"outlinewidth\": 0, \"ticks\": \"\"}, \"colorscale\": [[0.0, \"#0d0887\"], [0.1111111111111111, \"#46039f\"], [0.2222222222222222, \"#7201a8\"], [0.3333333333333333, \"#9c179e\"], [0.4444444444444444, \"#bd3786\"], [0.5555555555555556, \"#d8576b\"], [0.6666666666666666, \"#ed7953\"], [0.7777777777777778, \"#fb9f3a\"], [0.8888888888888888, \"#fdca26\"], [1.0, \"#f0f921\"]], \"type\": \"heatmapgl\"}], \"histogram\": [{\"marker\": {\"colorbar\": {\"outlinewidth\": 0, \"ticks\": \"\"}}, \"type\": \"histogram\"}], \"histogram2d\": [{\"colorbar\": {\"outlinewidth\": 0, \"ticks\": \"\"}, \"colorscale\": [[0.0, \"#0d0887\"], [0.1111111111111111, \"#46039f\"], [0.2222222222222222, \"#7201a8\"], [0.3333333333333333, \"#9c179e\"], [0.4444444444444444, \"#bd3786\"], [0.5555555555555556, \"#d8576b\"], [0.6666666666666666, \"#ed7953\"], [0.7777777777777778, \"#fb9f3a\"], [0.8888888888888888, \"#fdca26\"], [1.0, \"#f0f921\"]], \"type\": \"histogram2d\"}], \"histogram2dcontour\": [{\"colorbar\": {\"outlinewidth\": 0, \"ticks\": \"\"}, \"colorscale\": [[0.0, \"#0d0887\"], [0.1111111111111111, \"#46039f\"], [0.2222222222222222, \"#7201a8\"], [0.3333333333333333, \"#9c179e\"], [0.4444444444444444, \"#bd3786\"], [0.5555555555555556, \"#d8576b\"], [0.6666666666666666, \"#ed7953\"], [0.7777777777777778, \"#fb9f3a\"], [0.8888888888888888, \"#fdca26\"], [1.0, \"#f0f921\"]], \"type\": \"histogram2dcontour\"}], \"mesh3d\": [{\"colorbar\": {\"outlinewidth\": 0, \"ticks\": \"\"}, \"type\": \"mesh3d\"}], \"parcoords\": [{\"line\": {\"colorbar\": {\"outlinewidth\": 0, \"ticks\": \"\"}}, \"type\": \"parcoords\"}], \"pie\": [{\"automargin\": true, \"type\": \"pie\"}], \"scatter\": [{\"marker\": {\"colorbar\": {\"outlinewidth\": 0, \"ticks\": \"\"}}, \"type\": \"scatter\"}], \"scatter3d\": [{\"line\": {\"colorbar\": {\"outlinewidth\": 0, \"ticks\": \"\"}}, \"marker\": {\"colorbar\": {\"outlinewidth\": 0, \"ticks\": \"\"}}, \"type\": \"scatter3d\"}], \"scattercarpet\": [{\"marker\": {\"colorbar\": {\"outlinewidth\": 0, \"ticks\": \"\"}}, \"type\": \"scattercarpet\"}], \"scattergeo\": [{\"marker\": {\"colorbar\": {\"outlinewidth\": 0, \"ticks\": \"\"}}, \"type\": \"scattergeo\"}], \"scattergl\": [{\"marker\": {\"colorbar\": {\"outlinewidth\": 0, \"ticks\": \"\"}}, \"type\": \"scattergl\"}], \"scattermapbox\": [{\"marker\": {\"colorbar\": {\"outlinewidth\": 0, \"ticks\": \"\"}}, \"type\": \"scattermapbox\"}], \"scatterpolar\": [{\"marker\": {\"colorbar\": {\"outlinewidth\": 0, \"ticks\": \"\"}}, \"type\": \"scatterpolar\"}], \"scatterpolargl\": [{\"marker\": {\"colorbar\": {\"outlinewidth\": 0, \"ticks\": \"\"}}, \"type\": \"scatterpolargl\"}], \"scatterternary\": [{\"marker\": {\"colorbar\": {\"outlinewidth\": 0, \"ticks\": \"\"}}, \"type\": \"scatterternary\"}], \"surface\": [{\"colorbar\": {\"outlinewidth\": 0, \"ticks\": \"\"}, \"colorscale\": [[0.0, \"#0d0887\"], [0.1111111111111111, \"#46039f\"], [0.2222222222222222, \"#7201a8\"], [0.3333333333333333, \"#9c179e\"], [0.4444444444444444, \"#bd3786\"], [0.5555555555555556, \"#d8576b\"], [0.6666666666666666, \"#ed7953\"], [0.7777777777777778, \"#fb9f3a\"], [0.8888888888888888, \"#fdca26\"], [1.0, \"#f0f921\"]], \"type\": \"surface\"}], \"table\": [{\"cells\": {\"fill\": {\"color\": \"#EBF0F8\"}, \"line\": {\"color\": \"white\"}}, \"header\": {\"fill\": {\"color\": \"#C8D4E3\"}, \"line\": {\"color\": \"white\"}}, \"type\": \"table\"}]}, \"layout\": {\"annotationdefaults\": {\"arrowcolor\": \"#2a3f5f\", \"arrowhead\": 0, \"arrowwidth\": 1}, \"coloraxis\": {\"colorbar\": {\"outlinewidth\": 0, \"ticks\": \"\"}}, \"colorscale\": {\"diverging\": [[0, \"#8e0152\"], [0.1, \"#c51b7d\"], [0.2, \"#de77ae\"], [0.3, \"#f1b6da\"], [0.4, \"#fde0ef\"], [0.5, \"#f7f7f7\"], [0.6, \"#e6f5d0\"], [0.7, \"#b8e186\"], [0.8, \"#7fbc41\"], [0.9, \"#4d9221\"], [1, \"#276419\"]], \"sequential\": [[0.0, \"#0d0887\"], [0.1111111111111111, \"#46039f\"], [0.2222222222222222, \"#7201a8\"], [0.3333333333333333, \"#9c179e\"], [0.4444444444444444, \"#bd3786\"], [0.5555555555555556, \"#d8576b\"], [0.6666666666666666, \"#ed7953\"], [0.7777777777777778, \"#fb9f3a\"], [0.8888888888888888, \"#fdca26\"], [1.0, \"#f0f921\"]], \"sequentialminus\": [[0.0, \"#0d0887\"], [0.1111111111111111, \"#46039f\"], [0.2222222222222222, \"#7201a8\"], [0.3333333333333333, \"#9c179e\"], [0.4444444444444444, \"#bd3786\"], [0.5555555555555556, \"#d8576b\"], [0.6666666666666666, \"#ed7953\"], [0.7777777777777778, \"#fb9f3a\"], [0.8888888888888888, \"#fdca26\"], [1.0, \"#f0f921\"]]}, \"colorway\": [\"#636efa\", \"#EF553B\", \"#00cc96\", \"#ab63fa\", \"#FFA15A\", \"#19d3f3\", \"#FF6692\", \"#B6E880\", \"#FF97FF\", \"#FECB52\"], \"font\": {\"color\": \"#2a3f5f\"}, \"geo\": {\"bgcolor\": \"white\", \"lakecolor\": \"white\", \"landcolor\": \"#E5ECF6\", \"showlakes\": true, \"showland\": true, \"subunitcolor\": \"white\"}, \"hoverlabel\": {\"align\": \"left\"}, \"hovermode\": \"closest\", \"mapbox\": {\"style\": \"light\"}, \"paper_bgcolor\": \"white\", \"plot_bgcolor\": \"#E5ECF6\", \"polar\": {\"angularaxis\": {\"gridcolor\": \"white\", \"linecolor\": \"white\", \"ticks\": \"\"}, \"bgcolor\": \"#E5ECF6\", \"radialaxis\": {\"gridcolor\": \"white\", \"linecolor\": \"white\", \"ticks\": \"\"}}, \"scene\": {\"xaxis\": {\"backgroundcolor\": \"#E5ECF6\", \"gridcolor\": \"white\", \"gridwidth\": 2, \"linecolor\": \"white\", \"showbackground\": true, \"ticks\": \"\", \"zerolinecolor\": \"white\"}, \"yaxis\": {\"backgroundcolor\": \"#E5ECF6\", \"gridcolor\": \"white\", \"gridwidth\": 2, \"linecolor\": \"white\", \"showbackground\": true, \"ticks\": \"\", \"zerolinecolor\": \"white\"}, \"zaxis\": {\"backgroundcolor\": \"#E5ECF6\", \"gridcolor\": \"white\", \"gridwidth\": 2, \"linecolor\": \"white\", \"showbackground\": true, \"ticks\": \"\", \"zerolinecolor\": \"white\"}}, \"shapedefaults\": {\"line\": {\"color\": \"#2a3f5f\"}}, \"ternary\": {\"aaxis\": {\"gridcolor\": \"white\", \"linecolor\": \"white\", \"ticks\": \"\"}, \"baxis\": {\"gridcolor\": \"white\", \"linecolor\": \"white\", \"ticks\": \"\"}, \"bgcolor\": \"#E5ECF6\", \"caxis\": {\"gridcolor\": \"white\", \"linecolor\": \"white\", \"ticks\": \"\"}}, \"title\": {\"x\": 0.05}, \"xaxis\": {\"automargin\": true, \"gridcolor\": \"white\", \"linecolor\": \"white\", \"ticks\": \"\", \"title\": {\"standoff\": 15}, \"zerolinecolor\": \"white\", \"zerolinewidth\": 2}, \"yaxis\": {\"automargin\": true, \"gridcolor\": \"white\", \"linecolor\": \"white\", \"ticks\": \"\", \"title\": {\"standoff\": 15}, \"zerolinecolor\": \"white\", \"zerolinewidth\": 2}}}, \"title\": {\"text\": \"Hotels in Vacation Cities (2020-09-25)\"}},                        {\"responsive\": true}                    ).then(function(){\n",
       "                            \n",
       "var gd = document.getElementById('7fef3844-f667-40f2-bba0-17b41977307a');\n",
       "var x = new MutationObserver(function (mutations, observer) {{\n",
       "        var display = window.getComputedStyle(gd).display;\n",
       "        if (!display || display === 'none') {{\n",
       "            console.log([gd, 'removed!']);\n",
       "            Plotly.purge(gd);\n",
       "            observer.disconnect();\n",
       "        }}\n",
       "}});\n",
       "\n",
       "// Listen for the removal of the full notebook cells\n",
       "var notebookContainer = gd.closest('#notebook-container');\n",
       "if (notebookContainer) {{\n",
       "    x.observe(notebookContainer, {childList: true});\n",
       "}}\n",
       "\n",
       "// Listen for the clearing of the current output cell\n",
       "var outputEl = gd.closest('.output');\n",
       "if (outputEl) {{\n",
       "    x.observe(outputEl, {childList: true});\n",
       "}}\n",
       "\n",
       "                        })                };                });            </script>        </div>"
      ]
     },
     "metadata": {},
     "output_type": "display_data"
    }
   ],
   "source": [
    "# Map observations with Plotly\n",
    "today = date.today()\n",
    "\n",
    "fig = px.scatter_mapbox(\n",
    "    hotel_df,\n",
    "    lat=\"Lat\",\n",
    "    lon=\"Long\",\n",
    "    color=\"Humidity\",\n",
    "    hover_data=[\"Hotel_Name\", \"City\", \"Country\"],\n",
    "    title=(f\"Hotels in Vacation Cities ({today})\"),\n",
    ")\n",
    "\n",
    "fig.show()"
   ]
  }
 ],
 "metadata": {
  "environment": {
   "name": "common-cpu.m54",
   "type": "gcloud",
   "uri": "gcr.io/deeplearning-platform-release/base-cpu:m54"
  },
  "kernelspec": {
   "display_name": "Python 3",
   "language": "python",
   "name": "python3"
  },
  "language_info": {
   "codemirror_mode": {
    "name": "ipython",
    "version": 3
   },
   "file_extension": ".py",
   "mimetype": "text/x-python",
   "name": "python",
   "nbconvert_exporter": "python",
   "pygments_lexer": "ipython3",
   "version": "3.7.8"
  }
 },
 "nbformat": 4,
 "nbformat_minor": 4
}
